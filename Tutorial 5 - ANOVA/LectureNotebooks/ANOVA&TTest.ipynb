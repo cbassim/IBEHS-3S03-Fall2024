{
 "cells": [
  {
   "cell_type": "code",
   "execution_count": 139,
   "id": "b983a835-38ef-44ea-998c-58cb98aa7a70",
   "metadata": {},
   "outputs": [
    {
     "name": "stdin",
     "output_type": "stream",
     "text": [
      "Once deleted, variables cannot be recovered. Proceed (y/[n])?  y\n"
     ]
    }
   ],
   "source": [
    "%reset\n",
    "import numpy as np\n",
    "import pandas as pd\n",
    "import matplotlib.pyplot as plt\n",
    "import seaborn as sns\n",
    "import scipy\n",
    "from scipy import stats\n",
    "import statsmodels.api as sm"
   ]
  },
  {
   "cell_type": "code",
   "execution_count": 141,
   "id": "49c689c9-d855-4da7-afe4-55b350c519bb",
   "metadata": {},
   "outputs": [],
   "source": [
    "# toy dataset\n",
    "One=pd.Series([1,2,3,4,5],name=\"One\")\n",
    "Two=pd.Series([6,7,8,9,10],name=\"Two\")"
   ]
  },
  {
   "cell_type": "code",
   "execution_count": 143,
   "id": "c8a083c6-f11e-4fa9-9fc6-3219a08c3c7b",
   "metadata": {},
   "outputs": [
    {
     "data": {
      "text/html": [
       "<div>\n",
       "<style scoped>\n",
       "    .dataframe tbody tr th:only-of-type {\n",
       "        vertical-align: middle;\n",
       "    }\n",
       "\n",
       "    .dataframe tbody tr th {\n",
       "        vertical-align: top;\n",
       "    }\n",
       "\n",
       "    .dataframe thead th {\n",
       "        text-align: right;\n",
       "    }\n",
       "</style>\n",
       "<table border=\"1\" class=\"dataframe\">\n",
       "  <thead>\n",
       "    <tr style=\"text-align: right;\">\n",
       "      <th></th>\n",
       "      <th>One</th>\n",
       "      <th>Two</th>\n",
       "    </tr>\n",
       "  </thead>\n",
       "  <tbody>\n",
       "    <tr>\n",
       "      <th>0</th>\n",
       "      <td>1</td>\n",
       "      <td>6</td>\n",
       "    </tr>\n",
       "    <tr>\n",
       "      <th>1</th>\n",
       "      <td>2</td>\n",
       "      <td>7</td>\n",
       "    </tr>\n",
       "    <tr>\n",
       "      <th>2</th>\n",
       "      <td>3</td>\n",
       "      <td>8</td>\n",
       "    </tr>\n",
       "    <tr>\n",
       "      <th>3</th>\n",
       "      <td>4</td>\n",
       "      <td>9</td>\n",
       "    </tr>\n",
       "    <tr>\n",
       "      <th>4</th>\n",
       "      <td>5</td>\n",
       "      <td>10</td>\n",
       "    </tr>\n",
       "  </tbody>\n",
       "</table>\n",
       "</div>"
      ],
      "text/plain": [
       "   One  Two\n",
       "0    1    6\n",
       "1    2    7\n",
       "2    3    8\n",
       "3    4    9\n",
       "4    5   10"
      ]
     },
     "execution_count": 143,
     "metadata": {},
     "output_type": "execute_result"
    }
   ],
   "source": [
    "# create a pandas dataframe of the name of df; axis=1 is for columns\n",
    "df=pd.concat([One,Two],axis='columns')\n",
    "df"
   ]
  },
  {
   "cell_type": "code",
   "execution_count": 145,
   "id": "8e0cccd8-8c66-4463-bd4d-1b26355998a7",
   "metadata": {},
   "outputs": [
    {
     "data": {
      "text/plain": [
       "5.5"
      ]
     },
     "execution_count": 145,
     "metadata": {},
     "output_type": "execute_result"
    }
   ],
   "source": [
    "# grand mean\n",
    "GM=(np.mean(One)+np.mean(Two))/2\n",
    "GM"
   ]
  },
  {
   "cell_type": "code",
   "execution_count": 191,
   "id": "8e2691cd-e027-40c8-bf73-2774890e1f12",
   "metadata": {},
   "outputs": [
    {
     "data": {
      "text/html": [
       "<div>\n",
       "<style scoped>\n",
       "    .dataframe tbody tr th:only-of-type {\n",
       "        vertical-align: middle;\n",
       "    }\n",
       "\n",
       "    .dataframe tbody tr th {\n",
       "        vertical-align: top;\n",
       "    }\n",
       "\n",
       "    .dataframe thead th {\n",
       "        text-align: right;\n",
       "    }\n",
       "</style>\n",
       "<table border=\"1\" class=\"dataframe\">\n",
       "  <thead>\n",
       "    <tr style=\"text-align: right;\">\n",
       "      <th></th>\n",
       "      <th>One</th>\n",
       "      <th>Two</th>\n",
       "    </tr>\n",
       "  </thead>\n",
       "  <tbody>\n",
       "    <tr>\n",
       "      <th>count</th>\n",
       "      <td>5.000000</td>\n",
       "      <td>5.000000</td>\n",
       "    </tr>\n",
       "    <tr>\n",
       "      <th>mean</th>\n",
       "      <td>3.000000</td>\n",
       "      <td>8.000000</td>\n",
       "    </tr>\n",
       "    <tr>\n",
       "      <th>std</th>\n",
       "      <td>1.581139</td>\n",
       "      <td>1.581139</td>\n",
       "    </tr>\n",
       "    <tr>\n",
       "      <th>min</th>\n",
       "      <td>1.000000</td>\n",
       "      <td>6.000000</td>\n",
       "    </tr>\n",
       "    <tr>\n",
       "      <th>25%</th>\n",
       "      <td>2.000000</td>\n",
       "      <td>7.000000</td>\n",
       "    </tr>\n",
       "    <tr>\n",
       "      <th>50%</th>\n",
       "      <td>3.000000</td>\n",
       "      <td>8.000000</td>\n",
       "    </tr>\n",
       "    <tr>\n",
       "      <th>75%</th>\n",
       "      <td>4.000000</td>\n",
       "      <td>9.000000</td>\n",
       "    </tr>\n",
       "    <tr>\n",
       "      <th>max</th>\n",
       "      <td>5.000000</td>\n",
       "      <td>10.000000</td>\n",
       "    </tr>\n",
       "  </tbody>\n",
       "</table>\n",
       "</div>"
      ],
      "text/plain": [
       "            One        Two\n",
       "count  5.000000   5.000000\n",
       "mean   3.000000   8.000000\n",
       "std    1.581139   1.581139\n",
       "min    1.000000   6.000000\n",
       "25%    2.000000   7.000000\n",
       "50%    3.000000   8.000000\n",
       "75%    4.000000   9.000000\n",
       "max    5.000000  10.000000"
      ]
     },
     "execution_count": 191,
     "metadata": {},
     "output_type": "execute_result"
    }
   ],
   "source": [
    "# summarize the  data and describe\n",
    "df.describe()"
   ]
  },
  {
   "attachments": {
    "7151cc3d-408c-4e4b-a89e-10f9f1a1063e.png": {
     "image/png": "[encoded data removed]"
    }
   },
   "cell_type": "markdown",
   "id": "fdde75ee-2728-4662-8407-3e207fe71f88",
   "metadata": {},
   "source": [
    "Sum of Squares Treatment \n",
    "\n",
    "![image.png](attachment:7151cc3d-408c-4e4b-a89e-10f9f1a1063e.png)"
   ]
  },
  {
   "cell_type": "code",
   "execution_count": 194,
   "id": "c7c99c07-66c3-4836-9e92-bde22702787e",
   "metadata": {},
   "outputs": [
    {
     "data": {
      "text/plain": [
       "62.5"
      ]
     },
     "execution_count": 194,
     "metadata": {},
     "output_type": "execute_result"
    }
   ],
   "source": [
    "5 * ((np.mean(One)-GM)**2 + (np.mean(Two)-GM)**2 )"
   ]
  },
  {
   "cell_type": "markdown",
   "id": "765ea38b-ffa3-49c5-91fa-8758d4f20827",
   "metadata": {},
   "source": [
    "Mean Squares Treatment\n",
    "\n",
    "dof= a-1 = 1"
   ]
  },
  {
   "attachments": {
    "ab856af4-cd6f-4448-aa79-b47ee9b5057c.png": {
     "image/png": "[encoded data removed]"
    }
   },
   "cell_type": "markdown",
   "id": "fac35dbe-b747-479e-9046-4a2af98d993b",
   "metadata": {},
   "source": [
    "Sum of Squares Error\n",
    "\n",
    "![image.png](attachment:ab856af4-cd6f-4448-aa79-b47ee9b5057c.png)\n",
    "\n",
    "dof = 2(5-1) = 8"
   ]
  },
  {
   "cell_type": "code",
   "execution_count": 200,
   "id": "65f401af-42f0-4ede-8adb-5b41919ff457",
   "metadata": {},
   "outputs": [
    {
     "data": {
      "text/plain": [
       "2.5"
      ]
     },
     "execution_count": 200,
     "metadata": {},
     "output_type": "execute_result"
    }
   ],
   "source": [
    "np.sum( ((One-np.mean(One))**2) + ((Two-np.mean(Two))**2) ) /8"
   ]
  },
  {
   "cell_type": "code",
   "execution_count": 202,
   "id": "668e8250-9f2b-47bc-907d-767c10e14374",
   "metadata": {},
   "outputs": [
    {
     "data": {
      "text/plain": [
       "2.5"
      ]
     },
     "execution_count": 202,
     "metadata": {},
     "output_type": "execute_result"
    }
   ],
   "source": [
    "((1-3)**2 + (2-3)**2+(3-3)**2+(4-3)**2+(5-3)**2+(6-8)**2+(7-8)**2+(8-8)**2+(9-8)**2+(10-8)**2)/8"
   ]
  },
  {
   "attachments": {
    "338ec6c1-81ca-424c-9c26-6a0beff71259.png": {
     "image/png": "[encoded data removed]"
    }
   },
   "cell_type": "markdown",
   "id": "aed35085-dc5c-4636-a2fc-f04825caaa8d",
   "metadata": {},
   "source": [
    "F = ![image.png](attachment:338ec6c1-81ca-424c-9c26-6a0beff71259.png)\n",
    "\n",
    "ratio of variance"
   ]
  },
  {
   "cell_type": "code",
   "execution_count": 205,
   "id": "fe94a84f-5220-4182-98cc-e152abb6d198",
   "metadata": {},
   "outputs": [
    {
     "data": {
      "text/plain": [
       "25.0"
      ]
     },
     "execution_count": 205,
     "metadata": {},
     "output_type": "execute_result"
    }
   ],
   "source": [
    "62.5/2.5"
   ]
  },
  {
   "cell_type": "markdown",
   "id": "83980284-c246-4620-a7d6-53f58299216f",
   "metadata": {},
   "source": [
    "Test the calcualted F-test statistic"
   ]
  },
  {
   "cell_type": "code",
   "execution_count": 208,
   "id": "68642df5-1d57-4370-b6eb-6a68388260e9",
   "metadata": {},
   "outputs": [
    {
     "data": {
      "text/plain": [
       "0.013349063426018715"
      ]
     },
     "execution_count": 208,
     "metadata": {},
     "output_type": "execute_result"
    }
   ],
   "source": [
    "from scipy.stats import f\n",
    "1-f.cdf(10,1,8)"
   ]
  },
  {
   "cell_type": "code",
   "execution_count": 210,
   "id": "d283d4e2-a734-466e-8778-caeddbab2f75",
   "metadata": {},
   "outputs": [
    {
     "data": {
      "text/plain": [
       "F_onewayResult(statistic=25.0, pvalue=0.0010528257933665396)"
      ]
     },
     "execution_count": 210,
     "metadata": {},
     "output_type": "execute_result"
    }
   ],
   "source": [
    "stats.f_oneway(df[\"One\"],df[\"Two\"])"
   ]
  },
  {
   "cell_type": "markdown",
   "id": "e67ebcc4-3068-4242-8c75-53d8014ff40c",
   "metadata": {},
   "source": [
    "Interesting note that this is the t-statistic squared with the same p-value"
   ]
  },
  {
   "cell_type": "code",
   "execution_count": 213,
   "id": "29cac989-6871-4d4f-9d4d-021a9712dd55",
   "metadata": {},
   "outputs": [
    {
     "name": "stdout",
     "output_type": "stream",
     "text": [
      "TtestResult(statistic=-5.0, pvalue=0.001052825793366539, df=8.0)\n"
     ]
    }
   ],
   "source": [
    "print(stats.ttest_ind(One, Two, equal_var=True))"
   ]
  },
  {
   "cell_type": "code",
   "execution_count": 172,
   "id": "51a73864-cd73-42e3-b11a-cbf529bbf11c",
   "metadata": {},
   "outputs": [
    {
     "data": {
      "text/plain": [
       "Text(46.972222222222214, 0.5, 'strength')"
      ]
     },
     "execution_count": 172,
     "metadata": {},
     "output_type": "execute_result"
    },
    {
     "data": {
      "image/png": "[encoded data removed]",
      "text/plain": [
       "<Figure size 640x480 with 1 Axes>"
      ]
     },
     "metadata": {},
     "output_type": "display_data"
    }
   ],
   "source": [
    "# Plot the data to visualize\n",
    "ax=sns.boxplot(data=df,showmeans=True,palette=\"Greys\")\n",
    "ax=sns.swarmplot(data=df)\n",
    "plt.xlabel(\"concentration %\")\n",
    "plt.ylabel(\"strength\")"
   ]
  },
  {
   "cell_type": "code",
   "execution_count": 174,
   "id": "e9d6331d-48dc-4c7d-bb27-e167609be1c0",
   "metadata": {},
   "outputs": [
    {
     "data": {
      "text/plain": [
       "Text(0.5, 9.444444444444438, 'strength')"
      ]
     },
     "execution_count": 174,
     "metadata": {},
     "output_type": "execute_result"
    },
    {
     "data": {
      "image/png": "[encoded data removed]",
      "text/plain": [
       "<Figure size 578.125x500 with 1 Axes>"
      ]
     },
     "metadata": {},
     "output_type": "display_data"
    }
   ],
   "source": [
    "# take a look at the distributions as well\n",
    "sns.displot(df,palette=\"Greys\",bins=10,kde=True,stat=\"count\")\n",
    "plt.xlabel(\"strength\")"
   ]
  },
  {
   "cell_type": "code",
   "execution_count": 175,
   "id": "90c78219-db2b-432f-ba64-933a0d05f40f",
   "metadata": {},
   "outputs": [
    {
     "data": {
      "text/plain": [
       "<matplotlib.lines.Line2D at 0x264a2086650>"
      ]
     },
     "execution_count": 175,
     "metadata": {},
     "output_type": "execute_result"
    },
    {
     "data": {
      "image/png": "[encoded data removed]",
      "text/plain": [
       "<Figure size 500x500 with 1 Axes>"
      ]
     },
     "metadata": {},
     "output_type": "display_data"
    }
   ],
   "source": [
    "# Cat Plot Between and Within OR Treatment and Error Effects\n",
    "sns.catplot(data=df)\n",
    "plt.axhline(y=5.5,color=\"red\")\n",
    "plt.axhline(y=3, linestyle='--',color=\"red\") \n",
    "plt.axhline(y=8, linestyle='--',color=\"red\") "
   ]
  },
  {
   "cell_type": "code",
   "execution_count": null,
   "id": "45dbb105-7cd4-4423-9073-e59b4c8aea79",
   "metadata": {},
   "outputs": [],
   "source": []
  },
  {
   "cell_type": "code",
   "execution_count": null,
   "id": "84df7a85-c158-4c70-a8da-09dfd367d572",
   "metadata": {},
   "outputs": [],
   "source": []
  },
  {
   "cell_type": "code",
   "execution_count": null,
   "id": "728b6ffa-926f-4277-b0e6-79b0061a894b",
   "metadata": {},
   "outputs": [],
   "source": []
  }
 ],
 "metadata": {
  "kernelspec": {
   "display_name": "Python 3 (ipykernel)",
   "language": "python",
   "name": "python3"
  },
  "language_info": {
   "codemirror_mode": {
    "name": "ipython",
    "version": 3
   },
   "file_extension": ".py",
   "mimetype": "text/x-python",
   "name": "python",
   "nbconvert_exporter": "python",
   "pygments_lexer": "ipython3",
   "version": "3.11.8"
  }
 },
 "nbformat": 4,
 "nbformat_minor": 5
}
